{
  "nbformat": 4,
  "nbformat_minor": 0,
  "metadata": {
    "colab": {
      "name": "Machine Learning Terapan - Submission - Proyek Pertama.ipynb",
      "provenance": [],
      "collapsed_sections": [],
      "toc_visible": true
    },
    "kernelspec": {
      "name": "python3",
      "display_name": "Python 3"
    },
    "language_info": {
      "name": "python"
    }
  },
  "cells": [
    {
      "cell_type": "markdown",
      "source": [
        "# **Klasifikasi Mutu Padi Organik**\n",
        "****\n",
        "\n",
        "---\n",
        "\n"
      ],
      "metadata": {
        "id": "l6HX4Egqk0PX"
      }
    },
    {
      "cell_type": "markdown",
      "source": [
        "## **Domain Proyek**"
      ],
      "metadata": {
        "id": "DukNKX-omwOd"
      }
    },
    {
      "cell_type": "markdown",
      "source": [
        "Beras merupakan salah satu bahan pokok paling penting di dunia untuk konsumsi manusia yang berasal dari padi. Di negara negara asia yang penduduknya padat, khususnya Bangladesh, Myanmar, Kamboja, Cina, Indonesia, Korea, laos Filipina, Sri langka, thailand dan vietnam, beras juga merupakan salah satu makanan pokok. Sebanyak 75 % masukan harian masyarakat di negara-negara asia tersebut berasal dari beras. Lebih dari 50 % penduduk dunia tergantung pada beras sebagai sumber kalori utama(Resita wahyu dianti, 2010)\n",
        "\n",
        "Padi organik juga memiliki gizi yang cukup tinggi untuk di konsumsi oleh masyarakat. Pertumbuhan yang sangat pesat dari akumulasi data mutu padi organik dari seorang expert telah menciptakan kondisi kaya akan data tapi minim informasi. Jika mutu padi organik diketahui maka pihak dinas pertanian dapat melakukan penentuan harga yang sesuai dengan mutu dan juga meningkatkan kepercayaan mitra yang berkerja sama dengan pihak dinas pertanian. Oleh karena itu maka di pandang perlu untuk melakukan sebuah penelitian dalam mencari pola dari mutu padi organik dengan menggunakan machine learning dengan tujuan agar pengklasifikasian tidak lagi sekedar hanya menggunakan perkiraan semata tapi menggunakan data pengalaman dari seorang expert yang sudah di extrak dan menjadi acuan utama dalam menentukan klasifikasi mutu dari sebuah padi organik. "
      ],
      "metadata": {
        "id": "dcIbY4GPm0lE"
      }
    },
    {
      "cell_type": "markdown",
      "source": [
        "## **Business understanding**"
      ],
      "metadata": {
        "id": "euPzox9IlA8S"
      }
    },
    {
      "cell_type": "markdown",
      "source": [
        "Dinas pertanian memiliki data terkait padi organik, namun data tersebut\n",
        "masih sulit untuk melihat pola mutu padi organik secara menyeluruh, untuk kepentingan pengembangan selanjutnya maka dibutuhkan sebuah model yang bisa mengklasifikasi data mutu padi organik di Dinas pertanian,\n",
        "hal ini diperlukan agar data yang ada bisa lebih bermanfaat lagi bukan hanya sekedar\n",
        "tumpukan data yang minim informasi."
      ],
      "metadata": {
        "id": "dzL_lC5Bm1OB"
      }
    },
    {
      "cell_type": "markdown",
      "source": [
        "### Problem Statements\n",
        "*   Dari serangkaian fitur yang ada, fitur apa yang paling berpengaruh terhadap mutu padi organik?\n",
        "*   Apa mutu padi organik dengan karakteristik atau fitur tertentu?  "
      ],
      "metadata": {
        "id": "KHmzNpX4lQOj"
      }
    },
    {
      "cell_type": "markdown",
      "source": [
        "### Goals\n",
        "*   Mengetahui fitur yang paling berkorelasi dengan mutu padi oragnik.\n",
        "*   Membuat model machine learning yang dapat memprediksi mutu padi organik seakurat mungkin berdasarkan fitur-fitur yang ada.\n",
        "\n"
      ],
      "metadata": {
        "id": "makv9l_SlW0C"
      }
    },
    {
      "cell_type": "markdown",
      "source": [
        "### Metodologi\n",
        "Prediksi mutu/kualitas adalah tujuan yang ingin dicapai. Seperti yang kita tahu, mutu merupakan variabel diskrit. Dalam predictive analytics, saat membuat prediksi variabel diskrit artinya Anda sedang menyelesaikan permasalahan klasifikasi. Oleh karena itu, metodologi pada proyek ini adalah: membangun model klasifikasi dengan mutu padi organik sebagai target."
      ],
      "metadata": {
        "id": "4JMb3tjAldNS"
      }
    },
    {
      "cell_type": "markdown",
      "source": [
        "### Metrik\n",
        "Metrik digunakan untuk mengevaluasi seberapa baik model Anda dalam memprediksi mutu. Untuk kasus klasifikasi, metrik yang biasanya digunakan adalah accuracy."
      ],
      "metadata": {
        "id": "JGHmaMatlefJ"
      }
    },
    {
      "cell_type": "markdown",
      "source": [
        "## **Data understanding**"
      ],
      "metadata": {
        "id": "6dFmLddHlrvq"
      }
    },
    {
      "cell_type": "markdown",
      "source": [
        "Data yang Anda gunakan pada proyek kali ini adalah Data Mutu Padi Organik yang dapat  diunduh di [Drive saya](https://drive.google.com/file/d/1AnABSK_LiYWYobo4eD1fCxiqM63GjYQv/view?usp=sharing).\n",
        "\n",
        "Dataset ini memiliki **4.952** sampel padi dengan berbagai karakteristik dan grade mutu. Karakteristik yang dimaksud di sini adalah fitur non-numerik seperti varietas, warna, rasa, teknik, musim, dan penyakit, serta fitur numerik seperti Panjang, Besar, dan PH."
      ],
      "metadata": {
        "id": "Y8I-qk7gNxLS"
      }
    },
    {
      "cell_type": "markdown",
      "source": [
        "### Data Loading"
      ],
      "metadata": {
        "id": "xMjMxxsSlw_B"
      }
    },
    {
      "cell_type": "markdown",
      "source": [
        "Supaya isi dataset lebih mudah dipahami, kita perlu melakukan proses loading data terlebih dahulu. Dataset yang akan kita gunakan bernama Data Mutu Padi Organik.csv."
      ],
      "metadata": {
        "id": "jX5PkkbXjpNO"
      }
    },
    {
      "cell_type": "code",
      "execution_count": 1,
      "metadata": {
        "colab": {
          "base_uri": "https://localhost:8080/"
        },
        "id": "d1xYTUR2_nRW",
        "outputId": "296d02e8-3d0f-43ac-ce79-62b6184f5f8a"
      },
      "outputs": [
        {
          "output_type": "stream",
          "name": "stdout",
          "text": [
            "Mounted at /content/drive\n"
          ]
        }
      ],
      "source": [
        "from google.colab import drive\n",
        "drive.mount('/content/drive')"
      ]
    },
    {
      "cell_type": "code",
      "source": [
        "import pandas as pd\n",
        "import numpy as np\n",
        "from sklearn.compose import ColumnTransformer\n",
        "from sklearn .model_selection import train_test_split\n",
        "from sklearn.preprocessing import OneHotEncoder\n",
        "from sklearn.preprocessing import LabelEncoder\n",
        "from sklearn.preprocessing import StandardScaler\n",
        "import matplotlib.pyplot as plt\n",
        "%matplotlib inline\n",
        "import seaborn as sns"
      ],
      "metadata": {
        "id": "3dzbVvyrBNch"
      },
      "execution_count": 23,
      "outputs": []
    },
    {
      "cell_type": "code",
      "source": [
        "# Baca file dataset\n",
        "padi = pd.read_csv('/content/drive/MyDrive/Data Mutu Padi Organik.csv')\n",
        "padi.head()"
      ],
      "metadata": {
        "id": "RaHRs91rEVhO",
        "colab": {
          "base_uri": "https://localhost:8080/",
          "height": 206
        },
        "outputId": "09d754ac-7b27-44ad-ba56-effdd8854542"
      },
      "execution_count": 7,
      "outputs": [
        {
          "output_type": "execute_result",
          "data": {
            "text/plain": [
              "   No.     Varietas  Panjang  Besar  Warna          Rasa        Teknik  Musim  \\\n",
              "0  NaN          NaN      NaN    NaN    NaN           NaN           NaN    NaN   \n",
              "1  1.0  panda wangi      6.3    1.2  putih  sangat pulen  Jajar Legowo  Hujan   \n",
              "2  2.0      ciheran      7.2    2.3  putih         pulen  Jajar Legowo  Hujan   \n",
              "3  3.0    mi kongga      6.1    3.3  putih  sangat pulen           SRI  Hujan   \n",
              "4  4.0        IR 64      6.1    4.2  putih         pulen           SRI  Hujan   \n",
              "\n",
              "           Penyakit   PH Grade Mutu  \n",
              "0               NaN  NaN        NaN  \n",
              "1            Burung  2.0    Grade D  \n",
              "2  penggerek batang  2.0    Grade C  \n",
              "3     wereng coklat  2.0    Grade D  \n",
              "4      wereng hijau  2.0    Grade B  "
            ],
            "text/html": [
              "\n",
              "  <div id=\"df-afade532-cf64-42fa-bc5f-3fd2caa5c438\">\n",
              "    <div class=\"colab-df-container\">\n",
              "      <div>\n",
              "<style scoped>\n",
              "    .dataframe tbody tr th:only-of-type {\n",
              "        vertical-align: middle;\n",
              "    }\n",
              "\n",
              "    .dataframe tbody tr th {\n",
              "        vertical-align: top;\n",
              "    }\n",
              "\n",
              "    .dataframe thead th {\n",
              "        text-align: right;\n",
              "    }\n",
              "</style>\n",
              "<table border=\"1\" class=\"dataframe\">\n",
              "  <thead>\n",
              "    <tr style=\"text-align: right;\">\n",
              "      <th></th>\n",
              "      <th>No.</th>\n",
              "      <th>Varietas</th>\n",
              "      <th>Panjang</th>\n",
              "      <th>Besar</th>\n",
              "      <th>Warna</th>\n",
              "      <th>Rasa</th>\n",
              "      <th>Teknik</th>\n",
              "      <th>Musim</th>\n",
              "      <th>Penyakit</th>\n",
              "      <th>PH</th>\n",
              "      <th>Grade Mutu</th>\n",
              "    </tr>\n",
              "  </thead>\n",
              "  <tbody>\n",
              "    <tr>\n",
              "      <th>0</th>\n",
              "      <td>NaN</td>\n",
              "      <td>NaN</td>\n",
              "      <td>NaN</td>\n",
              "      <td>NaN</td>\n",
              "      <td>NaN</td>\n",
              "      <td>NaN</td>\n",
              "      <td>NaN</td>\n",
              "      <td>NaN</td>\n",
              "      <td>NaN</td>\n",
              "      <td>NaN</td>\n",
              "      <td>NaN</td>\n",
              "    </tr>\n",
              "    <tr>\n",
              "      <th>1</th>\n",
              "      <td>1.0</td>\n",
              "      <td>panda wangi</td>\n",
              "      <td>6.3</td>\n",
              "      <td>1.2</td>\n",
              "      <td>putih</td>\n",
              "      <td>sangat pulen</td>\n",
              "      <td>Jajar Legowo</td>\n",
              "      <td>Hujan</td>\n",
              "      <td>Burung</td>\n",
              "      <td>2.0</td>\n",
              "      <td>Grade D</td>\n",
              "    </tr>\n",
              "    <tr>\n",
              "      <th>2</th>\n",
              "      <td>2.0</td>\n",
              "      <td>ciheran</td>\n",
              "      <td>7.2</td>\n",
              "      <td>2.3</td>\n",
              "      <td>putih</td>\n",
              "      <td>pulen</td>\n",
              "      <td>Jajar Legowo</td>\n",
              "      <td>Hujan</td>\n",
              "      <td>penggerek batang</td>\n",
              "      <td>2.0</td>\n",
              "      <td>Grade C</td>\n",
              "    </tr>\n",
              "    <tr>\n",
              "      <th>3</th>\n",
              "      <td>3.0</td>\n",
              "      <td>mi kongga</td>\n",
              "      <td>6.1</td>\n",
              "      <td>3.3</td>\n",
              "      <td>putih</td>\n",
              "      <td>sangat pulen</td>\n",
              "      <td>SRI</td>\n",
              "      <td>Hujan</td>\n",
              "      <td>wereng coklat</td>\n",
              "      <td>2.0</td>\n",
              "      <td>Grade D</td>\n",
              "    </tr>\n",
              "    <tr>\n",
              "      <th>4</th>\n",
              "      <td>4.0</td>\n",
              "      <td>IR 64</td>\n",
              "      <td>6.1</td>\n",
              "      <td>4.2</td>\n",
              "      <td>putih</td>\n",
              "      <td>pulen</td>\n",
              "      <td>SRI</td>\n",
              "      <td>Hujan</td>\n",
              "      <td>wereng hijau</td>\n",
              "      <td>2.0</td>\n",
              "      <td>Grade B</td>\n",
              "    </tr>\n",
              "  </tbody>\n",
              "</table>\n",
              "</div>\n",
              "      <button class=\"colab-df-convert\" onclick=\"convertToInteractive('df-afade532-cf64-42fa-bc5f-3fd2caa5c438')\"\n",
              "              title=\"Convert this dataframe to an interactive table.\"\n",
              "              style=\"display:none;\">\n",
              "        \n",
              "  <svg xmlns=\"http://www.w3.org/2000/svg\" height=\"24px\"viewBox=\"0 0 24 24\"\n",
              "       width=\"24px\">\n",
              "    <path d=\"M0 0h24v24H0V0z\" fill=\"none\"/>\n",
              "    <path d=\"M18.56 5.44l.94 2.06.94-2.06 2.06-.94-2.06-.94-.94-2.06-.94 2.06-2.06.94zm-11 1L8.5 8.5l.94-2.06 2.06-.94-2.06-.94L8.5 2.5l-.94 2.06-2.06.94zm10 10l.94 2.06.94-2.06 2.06-.94-2.06-.94-.94-2.06-.94 2.06-2.06.94z\"/><path d=\"M17.41 7.96l-1.37-1.37c-.4-.4-.92-.59-1.43-.59-.52 0-1.04.2-1.43.59L10.3 9.45l-7.72 7.72c-.78.78-.78 2.05 0 2.83L4 21.41c.39.39.9.59 1.41.59.51 0 1.02-.2 1.41-.59l7.78-7.78 2.81-2.81c.8-.78.8-2.07 0-2.86zM5.41 20L4 18.59l7.72-7.72 1.47 1.35L5.41 20z\"/>\n",
              "  </svg>\n",
              "      </button>\n",
              "      \n",
              "  <style>\n",
              "    .colab-df-container {\n",
              "      display:flex;\n",
              "      flex-wrap:wrap;\n",
              "      gap: 12px;\n",
              "    }\n",
              "\n",
              "    .colab-df-convert {\n",
              "      background-color: #E8F0FE;\n",
              "      border: none;\n",
              "      border-radius: 50%;\n",
              "      cursor: pointer;\n",
              "      display: none;\n",
              "      fill: #1967D2;\n",
              "      height: 32px;\n",
              "      padding: 0 0 0 0;\n",
              "      width: 32px;\n",
              "    }\n",
              "\n",
              "    .colab-df-convert:hover {\n",
              "      background-color: #E2EBFA;\n",
              "      box-shadow: 0px 1px 2px rgba(60, 64, 67, 0.3), 0px 1px 3px 1px rgba(60, 64, 67, 0.15);\n",
              "      fill: #174EA6;\n",
              "    }\n",
              "\n",
              "    [theme=dark] .colab-df-convert {\n",
              "      background-color: #3B4455;\n",
              "      fill: #D2E3FC;\n",
              "    }\n",
              "\n",
              "    [theme=dark] .colab-df-convert:hover {\n",
              "      background-color: #434B5C;\n",
              "      box-shadow: 0px 1px 3px 1px rgba(0, 0, 0, 0.15);\n",
              "      filter: drop-shadow(0px 1px 2px rgba(0, 0, 0, 0.3));\n",
              "      fill: #FFFFFF;\n",
              "    }\n",
              "  </style>\n",
              "\n",
              "      <script>\n",
              "        const buttonEl =\n",
              "          document.querySelector('#df-afade532-cf64-42fa-bc5f-3fd2caa5c438 button.colab-df-convert');\n",
              "        buttonEl.style.display =\n",
              "          google.colab.kernel.accessAllowed ? 'block' : 'none';\n",
              "\n",
              "        async function convertToInteractive(key) {\n",
              "          const element = document.querySelector('#df-afade532-cf64-42fa-bc5f-3fd2caa5c438');\n",
              "          const dataTable =\n",
              "            await google.colab.kernel.invokeFunction('convertToInteractive',\n",
              "                                                     [key], {});\n",
              "          if (!dataTable) return;\n",
              "\n",
              "          const docLinkHtml = 'Like what you see? Visit the ' +\n",
              "            '<a target=\"_blank\" href=https://colab.research.google.com/notebooks/data_table.ipynb>data table notebook</a>'\n",
              "            + ' to learn more about interactive tables.';\n",
              "          element.innerHTML = '';\n",
              "          dataTable['output_type'] = 'display_data';\n",
              "          await google.colab.output.renderOutput(dataTable, element);\n",
              "          const docLink = document.createElement('div');\n",
              "          docLink.innerHTML = docLinkHtml;\n",
              "          element.appendChild(docLink);\n",
              "        }\n",
              "      </script>\n",
              "    </div>\n",
              "  </div>\n",
              "  "
            ]
          },
          "metadata": {},
          "execution_count": 7
        }
      ]
    },
    {
      "cell_type": "markdown",
      "source": [
        "Pada dataset tersebut, terdapat baris data kosong dan kolom 'No.' yang tidak diperlukan yang bisa kita buang."
      ],
      "metadata": {
        "id": "XSF69ORHjy0E"
      }
    },
    {
      "cell_type": "code",
      "source": [
        "padi = padi.drop(0) # Buang baris yang tidak diperlukan\n",
        "padi.drop('No.', axis=1, inplace=True) # Buang kolom yang tidak diperlukan\n",
        "padi"
      ],
      "metadata": {
        "colab": {
          "base_uri": "https://localhost:8080/",
          "height": 424
        },
        "id": "bgbrn-1RSgHR",
        "outputId": "bb3f6fc6-c338-4f00-bb91-a32d557d5b44"
      },
      "execution_count": 8,
      "outputs": [
        {
          "output_type": "execute_result",
          "data": {
            "text/plain": [
              "         Varietas  Panjang  Besar   Warna          Rasa        Teknik  \\\n",
              "1     panda wangi      6.3    1.2   putih  sangat pulen  Jajar Legowo   \n",
              "2         ciheran      7.2    2.3   putih         pulen  Jajar Legowo   \n",
              "3       mi kongga      6.1    3.3   putih  sangat pulen           SRI   \n",
              "4           IR 64      6.1    4.2   putih         pulen           SRI   \n",
              "5     Beras Merah      7.3    5.1   merah  sangat pulen  Jajar Legowo   \n",
              "...           ...      ...    ...     ...           ...           ...   \n",
              "4948        IR 64      7.2    4.2   putih         pulen           SRI   \n",
              "4949  Beras Merah      6.1    5.3   merah  sangat pulen  Jajar Legowo   \n",
              "4950  Beras Hitam      7.4    6.2   hitam         pulen  Jajar Legowo   \n",
              "4951  panda wangi      6.2    1.2   putih  sangat pulen           SRI   \n",
              "4952      ciheran      6.4    2.3  coklat         pulen           SRI   \n",
              "\n",
              "        Musim          Penyakit   PH Grade Mutu  \n",
              "1       Hujan            Burung  2.0    Grade D  \n",
              "2       Hujan  penggerek batang  2.0    Grade C  \n",
              "3       Hujan     wereng coklat  2.0    Grade D  \n",
              "4       Hujan      wereng hijau  2.0    Grade B  \n",
              "5       Hujan             tikus  2.0    Grade C  \n",
              "...       ...               ...  ...        ...  \n",
              "4948    Hujan     wereng coklat  2.0    Grade D  \n",
              "4949    Hujan      wereng hijau  2.0    Grade B  \n",
              "4950    Hujan             tikus  2.0    Grade C  \n",
              "4951  Kemarau            Burung  3.0    Grade C  \n",
              "4952  Kemarau  penggerek batang  3.0    Grade D  \n",
              "\n",
              "[4952 rows x 10 columns]"
            ],
            "text/html": [
              "\n",
              "  <div id=\"df-fe0e9e88-5391-49dd-b710-d52e9e56a15d\">\n",
              "    <div class=\"colab-df-container\">\n",
              "      <div>\n",
              "<style scoped>\n",
              "    .dataframe tbody tr th:only-of-type {\n",
              "        vertical-align: middle;\n",
              "    }\n",
              "\n",
              "    .dataframe tbody tr th {\n",
              "        vertical-align: top;\n",
              "    }\n",
              "\n",
              "    .dataframe thead th {\n",
              "        text-align: right;\n",
              "    }\n",
              "</style>\n",
              "<table border=\"1\" class=\"dataframe\">\n",
              "  <thead>\n",
              "    <tr style=\"text-align: right;\">\n",
              "      <th></th>\n",
              "      <th>Varietas</th>\n",
              "      <th>Panjang</th>\n",
              "      <th>Besar</th>\n",
              "      <th>Warna</th>\n",
              "      <th>Rasa</th>\n",
              "      <th>Teknik</th>\n",
              "      <th>Musim</th>\n",
              "      <th>Penyakit</th>\n",
              "      <th>PH</th>\n",
              "      <th>Grade Mutu</th>\n",
              "    </tr>\n",
              "  </thead>\n",
              "  <tbody>\n",
              "    <tr>\n",
              "      <th>1</th>\n",
              "      <td>panda wangi</td>\n",
              "      <td>6.3</td>\n",
              "      <td>1.2</td>\n",
              "      <td>putih</td>\n",
              "      <td>sangat pulen</td>\n",
              "      <td>Jajar Legowo</td>\n",
              "      <td>Hujan</td>\n",
              "      <td>Burung</td>\n",
              "      <td>2.0</td>\n",
              "      <td>Grade D</td>\n",
              "    </tr>\n",
              "    <tr>\n",
              "      <th>2</th>\n",
              "      <td>ciheran</td>\n",
              "      <td>7.2</td>\n",
              "      <td>2.3</td>\n",
              "      <td>putih</td>\n",
              "      <td>pulen</td>\n",
              "      <td>Jajar Legowo</td>\n",
              "      <td>Hujan</td>\n",
              "      <td>penggerek batang</td>\n",
              "      <td>2.0</td>\n",
              "      <td>Grade C</td>\n",
              "    </tr>\n",
              "    <tr>\n",
              "      <th>3</th>\n",
              "      <td>mi kongga</td>\n",
              "      <td>6.1</td>\n",
              "      <td>3.3</td>\n",
              "      <td>putih</td>\n",
              "      <td>sangat pulen</td>\n",
              "      <td>SRI</td>\n",
              "      <td>Hujan</td>\n",
              "      <td>wereng coklat</td>\n",
              "      <td>2.0</td>\n",
              "      <td>Grade D</td>\n",
              "    </tr>\n",
              "    <tr>\n",
              "      <th>4</th>\n",
              "      <td>IR 64</td>\n",
              "      <td>6.1</td>\n",
              "      <td>4.2</td>\n",
              "      <td>putih</td>\n",
              "      <td>pulen</td>\n",
              "      <td>SRI</td>\n",
              "      <td>Hujan</td>\n",
              "      <td>wereng hijau</td>\n",
              "      <td>2.0</td>\n",
              "      <td>Grade B</td>\n",
              "    </tr>\n",
              "    <tr>\n",
              "      <th>5</th>\n",
              "      <td>Beras Merah</td>\n",
              "      <td>7.3</td>\n",
              "      <td>5.1</td>\n",
              "      <td>merah</td>\n",
              "      <td>sangat pulen</td>\n",
              "      <td>Jajar Legowo</td>\n",
              "      <td>Hujan</td>\n",
              "      <td>tikus</td>\n",
              "      <td>2.0</td>\n",
              "      <td>Grade C</td>\n",
              "    </tr>\n",
              "    <tr>\n",
              "      <th>...</th>\n",
              "      <td>...</td>\n",
              "      <td>...</td>\n",
              "      <td>...</td>\n",
              "      <td>...</td>\n",
              "      <td>...</td>\n",
              "      <td>...</td>\n",
              "      <td>...</td>\n",
              "      <td>...</td>\n",
              "      <td>...</td>\n",
              "      <td>...</td>\n",
              "    </tr>\n",
              "    <tr>\n",
              "      <th>4948</th>\n",
              "      <td>IR 64</td>\n",
              "      <td>7.2</td>\n",
              "      <td>4.2</td>\n",
              "      <td>putih</td>\n",
              "      <td>pulen</td>\n",
              "      <td>SRI</td>\n",
              "      <td>Hujan</td>\n",
              "      <td>wereng coklat</td>\n",
              "      <td>2.0</td>\n",
              "      <td>Grade D</td>\n",
              "    </tr>\n",
              "    <tr>\n",
              "      <th>4949</th>\n",
              "      <td>Beras Merah</td>\n",
              "      <td>6.1</td>\n",
              "      <td>5.3</td>\n",
              "      <td>merah</td>\n",
              "      <td>sangat pulen</td>\n",
              "      <td>Jajar Legowo</td>\n",
              "      <td>Hujan</td>\n",
              "      <td>wereng hijau</td>\n",
              "      <td>2.0</td>\n",
              "      <td>Grade B</td>\n",
              "    </tr>\n",
              "    <tr>\n",
              "      <th>4950</th>\n",
              "      <td>Beras Hitam</td>\n",
              "      <td>7.4</td>\n",
              "      <td>6.2</td>\n",
              "      <td>hitam</td>\n",
              "      <td>pulen</td>\n",
              "      <td>Jajar Legowo</td>\n",
              "      <td>Hujan</td>\n",
              "      <td>tikus</td>\n",
              "      <td>2.0</td>\n",
              "      <td>Grade C</td>\n",
              "    </tr>\n",
              "    <tr>\n",
              "      <th>4951</th>\n",
              "      <td>panda wangi</td>\n",
              "      <td>6.2</td>\n",
              "      <td>1.2</td>\n",
              "      <td>putih</td>\n",
              "      <td>sangat pulen</td>\n",
              "      <td>SRI</td>\n",
              "      <td>Kemarau</td>\n",
              "      <td>Burung</td>\n",
              "      <td>3.0</td>\n",
              "      <td>Grade C</td>\n",
              "    </tr>\n",
              "    <tr>\n",
              "      <th>4952</th>\n",
              "      <td>ciheran</td>\n",
              "      <td>6.4</td>\n",
              "      <td>2.3</td>\n",
              "      <td>coklat</td>\n",
              "      <td>pulen</td>\n",
              "      <td>SRI</td>\n",
              "      <td>Kemarau</td>\n",
              "      <td>penggerek batang</td>\n",
              "      <td>3.0</td>\n",
              "      <td>Grade D</td>\n",
              "    </tr>\n",
              "  </tbody>\n",
              "</table>\n",
              "<p>4952 rows × 10 columns</p>\n",
              "</div>\n",
              "      <button class=\"colab-df-convert\" onclick=\"convertToInteractive('df-fe0e9e88-5391-49dd-b710-d52e9e56a15d')\"\n",
              "              title=\"Convert this dataframe to an interactive table.\"\n",
              "              style=\"display:none;\">\n",
              "        \n",
              "  <svg xmlns=\"http://www.w3.org/2000/svg\" height=\"24px\"viewBox=\"0 0 24 24\"\n",
              "       width=\"24px\">\n",
              "    <path d=\"M0 0h24v24H0V0z\" fill=\"none\"/>\n",
              "    <path d=\"M18.56 5.44l.94 2.06.94-2.06 2.06-.94-2.06-.94-.94-2.06-.94 2.06-2.06.94zm-11 1L8.5 8.5l.94-2.06 2.06-.94-2.06-.94L8.5 2.5l-.94 2.06-2.06.94zm10 10l.94 2.06.94-2.06 2.06-.94-2.06-.94-.94-2.06-.94 2.06-2.06.94z\"/><path d=\"M17.41 7.96l-1.37-1.37c-.4-.4-.92-.59-1.43-.59-.52 0-1.04.2-1.43.59L10.3 9.45l-7.72 7.72c-.78.78-.78 2.05 0 2.83L4 21.41c.39.39.9.59 1.41.59.51 0 1.02-.2 1.41-.59l7.78-7.78 2.81-2.81c.8-.78.8-2.07 0-2.86zM5.41 20L4 18.59l7.72-7.72 1.47 1.35L5.41 20z\"/>\n",
              "  </svg>\n",
              "      </button>\n",
              "      \n",
              "  <style>\n",
              "    .colab-df-container {\n",
              "      display:flex;\n",
              "      flex-wrap:wrap;\n",
              "      gap: 12px;\n",
              "    }\n",
              "\n",
              "    .colab-df-convert {\n",
              "      background-color: #E8F0FE;\n",
              "      border: none;\n",
              "      border-radius: 50%;\n",
              "      cursor: pointer;\n",
              "      display: none;\n",
              "      fill: #1967D2;\n",
              "      height: 32px;\n",
              "      padding: 0 0 0 0;\n",
              "      width: 32px;\n",
              "    }\n",
              "\n",
              "    .colab-df-convert:hover {\n",
              "      background-color: #E2EBFA;\n",
              "      box-shadow: 0px 1px 2px rgba(60, 64, 67, 0.3), 0px 1px 3px 1px rgba(60, 64, 67, 0.15);\n",
              "      fill: #174EA6;\n",
              "    }\n",
              "\n",
              "    [theme=dark] .colab-df-convert {\n",
              "      background-color: #3B4455;\n",
              "      fill: #D2E3FC;\n",
              "    }\n",
              "\n",
              "    [theme=dark] .colab-df-convert:hover {\n",
              "      background-color: #434B5C;\n",
              "      box-shadow: 0px 1px 3px 1px rgba(0, 0, 0, 0.15);\n",
              "      filter: drop-shadow(0px 1px 2px rgba(0, 0, 0, 0.3));\n",
              "      fill: #FFFFFF;\n",
              "    }\n",
              "  </style>\n",
              "\n",
              "      <script>\n",
              "        const buttonEl =\n",
              "          document.querySelector('#df-fe0e9e88-5391-49dd-b710-d52e9e56a15d button.colab-df-convert');\n",
              "        buttonEl.style.display =\n",
              "          google.colab.kernel.accessAllowed ? 'block' : 'none';\n",
              "\n",
              "        async function convertToInteractive(key) {\n",
              "          const element = document.querySelector('#df-fe0e9e88-5391-49dd-b710-d52e9e56a15d');\n",
              "          const dataTable =\n",
              "            await google.colab.kernel.invokeFunction('convertToInteractive',\n",
              "                                                     [key], {});\n",
              "          if (!dataTable) return;\n",
              "\n",
              "          const docLinkHtml = 'Like what you see? Visit the ' +\n",
              "            '<a target=\"_blank\" href=https://colab.research.google.com/notebooks/data_table.ipynb>data table notebook</a>'\n",
              "            + ' to learn more about interactive tables.';\n",
              "          element.innerHTML = '';\n",
              "          dataTable['output_type'] = 'display_data';\n",
              "          await google.colab.output.renderOutput(dataTable, element);\n",
              "          const docLink = document.createElement('div');\n",
              "          docLink.innerHTML = docLinkHtml;\n",
              "          element.appendChild(docLink);\n",
              "        }\n",
              "      </script>\n",
              "    </div>\n",
              "  </div>\n",
              "  "
            ]
          },
          "metadata": {},
          "execution_count": 8
        }
      ]
    },
    {
      "cell_type": "markdown",
      "source": [
        "Output kode di atas memberikan informasi sebagai berikut:\n",
        "\n",
        "*   Ada 4.952 baris (records atau jumlah pengamatan) dalam dataset.\n",
        "*   Terdapat 10 kolom yaitu: varietas, panjang,\tbesar,\twarna,\trasa,\tteknik,\tmusim,\tpenyakit,\tPH, dan\tgrade mutu."
      ],
      "metadata": {
        "id": "fhKugS9fq21K"
      }
    },
    {
      "cell_type": "markdown",
      "source": [
        "### Exploratory Data Analysis - Deskripsi Variabel"
      ],
      "metadata": {
        "id": "ELMKctmXmELK"
      }
    },
    {
      "cell_type": "markdown",
      "source": [
        "Exploratory data analysis (EDA) merupakan proses investigasi awal pada data untuk menganalisis karakteristik, menemukan pola, anomali, dan memeriksa asumsi pada data.\n",
        "\n",
        "Secara umum, Anda dapat melakukan proses EDA untuk menjawab beberapa pertanyaan berikut:\n",
        "*   Apa saja jenis variabel pada dataset?\n",
        "*   Apakah ada missing value?\n",
        "*   Bagaimana distribusi variabel dalam dataset?\n",
        "\n",
        "Dalam menjawab pertanyaan-pertanyaan di atas, Anda perlu melakukan beberapa hal pada data."
      ],
      "metadata": {
        "id": "s7BD7bjnmE8o"
      }
    },
    {
      "cell_type": "code",
      "source": [
        "padi.info()"
      ],
      "metadata": {
        "colab": {
          "base_uri": "https://localhost:8080/"
        },
        "id": "774sYqBOrrrK",
        "outputId": "e590e2ae-ba53-4ad5-8753-9b2a54219eca"
      },
      "execution_count": 9,
      "outputs": [
        {
          "output_type": "stream",
          "name": "stdout",
          "text": [
            "<class 'pandas.core.frame.DataFrame'>\n",
            "Int64Index: 4952 entries, 1 to 4952\n",
            "Data columns (total 10 columns):\n",
            " #   Column      Non-Null Count  Dtype  \n",
            "---  ------      --------------  -----  \n",
            " 0   Varietas    4952 non-null   object \n",
            " 1   Panjang     4952 non-null   float64\n",
            " 2   Besar       4952 non-null   float64\n",
            " 3   Warna       4952 non-null   object \n",
            " 4   Rasa        4952 non-null   object \n",
            " 5   Teknik      4952 non-null   object \n",
            " 6   Musim       4952 non-null   object \n",
            " 7   Penyakit    4952 non-null   object \n",
            " 8   PH          4952 non-null   float64\n",
            " 9   Grade Mutu  4952 non-null   object \n",
            "dtypes: float64(3), object(7)\n",
            "memory usage: 425.6+ KB\n"
          ]
        }
      ]
    },
    {
      "cell_type": "markdown",
      "source": [
        "Dari output terlihat bahwa:\n",
        "*   Terdapat 7 kolom dengan tipe object, 6 diantaranya yaitu: varietas, warna, rasa, teknik, musim, dan penyakit. Kolom ini merupakan categorical features (fitur non-numerik). satu lainnya adalah grade mutu yang merupakan target fitur kita.\n",
        "*   Terdapat 3 kolom numerik dengan tipe data float64 yaitu: panjang, bentuk, dan ph. Ini merupakan fitur numerik yang merupakan hasil pengukuran secara fisik."
      ],
      "metadata": {
        "id": "Ct-F4jS_omwp"
      }
    },
    {
      "cell_type": "code",
      "source": [
        "padi.describe()"
      ],
      "metadata": {
        "colab": {
          "base_uri": "https://localhost:8080/",
          "height": 301
        },
        "id": "6lWPp3kQrut3",
        "outputId": "d72decd9-4fdc-402b-ad82-f7aacf384a24"
      },
      "execution_count": 10,
      "outputs": [
        {
          "output_type": "execute_result",
          "data": {
            "text/plain": [
              "           Panjang        Besar           PH\n",
              "count  4952.000000  4952.000000  4952.000000\n",
              "mean      6.798183     3.676292     3.497981\n",
              "std       0.506038     1.739016     1.118506\n",
              "min       6.000000     1.100000     2.000000\n",
              "25%       6.300000     2.200000     2.000000\n",
              "50%       6.700000     3.300000     3.000000\n",
              "75%       7.300000     5.200000     4.000000\n",
              "max       7.800000     6.500000     5.000000"
            ],
            "text/html": [
              "\n",
              "  <div id=\"df-0c2fe982-1315-4116-b822-13ca4969b361\">\n",
              "    <div class=\"colab-df-container\">\n",
              "      <div>\n",
              "<style scoped>\n",
              "    .dataframe tbody tr th:only-of-type {\n",
              "        vertical-align: middle;\n",
              "    }\n",
              "\n",
              "    .dataframe tbody tr th {\n",
              "        vertical-align: top;\n",
              "    }\n",
              "\n",
              "    .dataframe thead th {\n",
              "        text-align: right;\n",
              "    }\n",
              "</style>\n",
              "<table border=\"1\" class=\"dataframe\">\n",
              "  <thead>\n",
              "    <tr style=\"text-align: right;\">\n",
              "      <th></th>\n",
              "      <th>Panjang</th>\n",
              "      <th>Besar</th>\n",
              "      <th>PH</th>\n",
              "    </tr>\n",
              "  </thead>\n",
              "  <tbody>\n",
              "    <tr>\n",
              "      <th>count</th>\n",
              "      <td>4952.000000</td>\n",
              "      <td>4952.000000</td>\n",
              "      <td>4952.000000</td>\n",
              "    </tr>\n",
              "    <tr>\n",
              "      <th>mean</th>\n",
              "      <td>6.798183</td>\n",
              "      <td>3.676292</td>\n",
              "      <td>3.497981</td>\n",
              "    </tr>\n",
              "    <tr>\n",
              "      <th>std</th>\n",
              "      <td>0.506038</td>\n",
              "      <td>1.739016</td>\n",
              "      <td>1.118506</td>\n",
              "    </tr>\n",
              "    <tr>\n",
              "      <th>min</th>\n",
              "      <td>6.000000</td>\n",
              "      <td>1.100000</td>\n",
              "      <td>2.000000</td>\n",
              "    </tr>\n",
              "    <tr>\n",
              "      <th>25%</th>\n",
              "      <td>6.300000</td>\n",
              "      <td>2.200000</td>\n",
              "      <td>2.000000</td>\n",
              "    </tr>\n",
              "    <tr>\n",
              "      <th>50%</th>\n",
              "      <td>6.700000</td>\n",
              "      <td>3.300000</td>\n",
              "      <td>3.000000</td>\n",
              "    </tr>\n",
              "    <tr>\n",
              "      <th>75%</th>\n",
              "      <td>7.300000</td>\n",
              "      <td>5.200000</td>\n",
              "      <td>4.000000</td>\n",
              "    </tr>\n",
              "    <tr>\n",
              "      <th>max</th>\n",
              "      <td>7.800000</td>\n",
              "      <td>6.500000</td>\n",
              "      <td>5.000000</td>\n",
              "    </tr>\n",
              "  </tbody>\n",
              "</table>\n",
              "</div>\n",
              "      <button class=\"colab-df-convert\" onclick=\"convertToInteractive('df-0c2fe982-1315-4116-b822-13ca4969b361')\"\n",
              "              title=\"Convert this dataframe to an interactive table.\"\n",
              "              style=\"display:none;\">\n",
              "        \n",
              "  <svg xmlns=\"http://www.w3.org/2000/svg\" height=\"24px\"viewBox=\"0 0 24 24\"\n",
              "       width=\"24px\">\n",
              "    <path d=\"M0 0h24v24H0V0z\" fill=\"none\"/>\n",
              "    <path d=\"M18.56 5.44l.94 2.06.94-2.06 2.06-.94-2.06-.94-.94-2.06-.94 2.06-2.06.94zm-11 1L8.5 8.5l.94-2.06 2.06-.94-2.06-.94L8.5 2.5l-.94 2.06-2.06.94zm10 10l.94 2.06.94-2.06 2.06-.94-2.06-.94-.94-2.06-.94 2.06-2.06.94z\"/><path d=\"M17.41 7.96l-1.37-1.37c-.4-.4-.92-.59-1.43-.59-.52 0-1.04.2-1.43.59L10.3 9.45l-7.72 7.72c-.78.78-.78 2.05 0 2.83L4 21.41c.39.39.9.59 1.41.59.51 0 1.02-.2 1.41-.59l7.78-7.78 2.81-2.81c.8-.78.8-2.07 0-2.86zM5.41 20L4 18.59l7.72-7.72 1.47 1.35L5.41 20z\"/>\n",
              "  </svg>\n",
              "      </button>\n",
              "      \n",
              "  <style>\n",
              "    .colab-df-container {\n",
              "      display:flex;\n",
              "      flex-wrap:wrap;\n",
              "      gap: 12px;\n",
              "    }\n",
              "\n",
              "    .colab-df-convert {\n",
              "      background-color: #E8F0FE;\n",
              "      border: none;\n",
              "      border-radius: 50%;\n",
              "      cursor: pointer;\n",
              "      display: none;\n",
              "      fill: #1967D2;\n",
              "      height: 32px;\n",
              "      padding: 0 0 0 0;\n",
              "      width: 32px;\n",
              "    }\n",
              "\n",
              "    .colab-df-convert:hover {\n",
              "      background-color: #E2EBFA;\n",
              "      box-shadow: 0px 1px 2px rgba(60, 64, 67, 0.3), 0px 1px 3px 1px rgba(60, 64, 67, 0.15);\n",
              "      fill: #174EA6;\n",
              "    }\n",
              "\n",
              "    [theme=dark] .colab-df-convert {\n",
              "      background-color: #3B4455;\n",
              "      fill: #D2E3FC;\n",
              "    }\n",
              "\n",
              "    [theme=dark] .colab-df-convert:hover {\n",
              "      background-color: #434B5C;\n",
              "      box-shadow: 0px 1px 3px 1px rgba(0, 0, 0, 0.15);\n",
              "      filter: drop-shadow(0px 1px 2px rgba(0, 0, 0, 0.3));\n",
              "      fill: #FFFFFF;\n",
              "    }\n",
              "  </style>\n",
              "\n",
              "      <script>\n",
              "        const buttonEl =\n",
              "          document.querySelector('#df-0c2fe982-1315-4116-b822-13ca4969b361 button.colab-df-convert');\n",
              "        buttonEl.style.display =\n",
              "          google.colab.kernel.accessAllowed ? 'block' : 'none';\n",
              "\n",
              "        async function convertToInteractive(key) {\n",
              "          const element = document.querySelector('#df-0c2fe982-1315-4116-b822-13ca4969b361');\n",
              "          const dataTable =\n",
              "            await google.colab.kernel.invokeFunction('convertToInteractive',\n",
              "                                                     [key], {});\n",
              "          if (!dataTable) return;\n",
              "\n",
              "          const docLinkHtml = 'Like what you see? Visit the ' +\n",
              "            '<a target=\"_blank\" href=https://colab.research.google.com/notebooks/data_table.ipynb>data table notebook</a>'\n",
              "            + ' to learn more about interactive tables.';\n",
              "          element.innerHTML = '';\n",
              "          dataTable['output_type'] = 'display_data';\n",
              "          await google.colab.output.renderOutput(dataTable, element);\n",
              "          const docLink = document.createElement('div');\n",
              "          docLink.innerHTML = docLinkHtml;\n",
              "          element.appendChild(docLink);\n",
              "        }\n",
              "      </script>\n",
              "    </div>\n",
              "  </div>\n",
              "  "
            ]
          },
          "metadata": {},
          "execution_count": 10
        }
      ]
    },
    {
      "cell_type": "markdown",
      "source": [
        "Fungsi describe() memberikan informasi statistik pada masing-masing kolom, antara lain:\n",
        "*   Count  adalah jumlah sampel pada data.\n",
        "*   Mean adalah nilai rata-rata.\n",
        "*   Std adalah standar deviasi.\n",
        "*   Min yaitu nilai minimum setiap kolom. \n",
        "*   25% adalah kuartil pertama. Kuartil adalah nilai yang menandai batas interval dalam empat bagian sebaran yang sama. \n",
        "*   50% adalah kuartil kedua, atau biasa juga disebut median (nilai tengah).\n",
        "*   75% adalah kuartil ketiga.\n",
        "*   Max adalah nilai maksimum."
      ],
      "metadata": {
        "id": "MjxwbLahok_Y"
      }
    },
    {
      "cell_type": "markdown",
      "source": [
        "### Exploratory Data Analysis - Menangani Missing Value dan Outliers"
      ],
      "metadata": {
        "id": "a7TJItK7piYB"
      }
    },
    {
      "cell_type": "markdown",
      "source": [
        "Dari hasil fungsi describe(), nilai minimum untuk selutuh kolom tidak ada yang bernilai 0. Hal tersebut mengindikasikan tidak ada missing value pada dataset."
      ],
      "metadata": {
        "id": "kU_OKRV2pj5x"
      }
    },
    {
      "cell_type": "markdown",
      "source": [
        "Beberapa pengamatan dalam satu set data kadang berada di luar lingkungan pengamatan lainnya. Pengamatan seperti itu disebut outlier. Outliers adalah sampel yang nilainya sangat jauh dari cakupan umum data utama. Ia adalah hasil pengamatan yang kemunculannya sangat jarang dan berbeda dari data hasil pengamatan lainnya. \n",
        "\n",
        "Ada beberapa teknik untuk menangani outliers, antara lain:\n",
        "*   Hypothesis Testing\n",
        "*   Z-score method\n",
        "*   IQR Method\n",
        "\n",
        "Pada kasus ini, Anda akan mendeteksi outliers dengan teknik visualisasi data (boxplot). Kemudian, Anda akan menangani outliers dengan teknik IQR method. \n",
        "\n",
        "\n",
        "1. Fitur Panjang"
      ],
      "metadata": {
        "id": "PU-2-0kTqHgC"
      }
    },
    {
      "cell_type": "code",
      "source": [
        "import seaborn as sns\n",
        "sns.boxplot(x=padi['Panjang'])"
      ],
      "metadata": {
        "colab": {
          "base_uri": "https://localhost:8080/",
          "height": 296
        },
        "id": "hFHn1ZkCsHQh",
        "outputId": "59d3ff4e-5c89-4170-ab45-0cf922617f7a"
      },
      "execution_count": 11,
      "outputs": [
        {
          "output_type": "execute_result",
          "data": {
            "text/plain": [
              "<matplotlib.axes._subplots.AxesSubplot at 0x7fc6ab8e3fd0>"
            ]
          },
          "metadata": {},
          "execution_count": 11
        },
        {
          "output_type": "display_data",
          "data": {
            "text/plain": [
              "<Figure size 432x288 with 1 Axes>"
            ],
            "image/png": "[encoded data removed]"
          },
          "metadata": {
            "needs_background": "light"
          }
        }
      ]
    },
    {
      "cell_type": "markdown",
      "source": [
        "2. Fitur Besar"
      ],
      "metadata": {
        "id": "SRMsWPmUqRDS"
      }
    },
    {
      "cell_type": "code",
      "source": [
        "sns.boxplot(x=padi['Besar'])"
      ],
      "metadata": {
        "colab": {
          "base_uri": "https://localhost:8080/",
          "height": 296
        },
        "id": "a9_9JLsusZk5",
        "outputId": "4bf13cf7-c527-4de7-e941-f72d6348fa1b"
      },
      "execution_count": 12,
      "outputs": [
        {
          "output_type": "execute_result",
          "data": {
            "text/plain": [
              "<matplotlib.axes._subplots.AxesSubplot at 0x7fc6ab849790>"
            ]
          },
          "metadata": {},
          "execution_count": 12
        },
        {
          "output_type": "display_data",
          "data": {
            "text/plain": [
              "<Figure size 432x288 with 1 Axes>"
            ],
            "image/png": "[encoded data removed]"
          },
          "metadata": {
            "needs_background": "light"
          }
        }
      ]
    },
    {
      "cell_type": "markdown",
      "source": [
        "3. Fitur PH"
      ],
      "metadata": {
        "id": "D_yREjcPqaaR"
      }
    },
    {
      "cell_type": "code",
      "source": [
        "sns.boxplot(x=padi['PH'])"
      ],
      "metadata": {
        "colab": {
          "base_uri": "https://localhost:8080/",
          "height": 296
        },
        "id": "VZ3NfkdushxI",
        "outputId": "227100cf-402b-4f1d-c62d-25b4a44fc6a4"
      },
      "execution_count": 13,
      "outputs": [
        {
          "output_type": "execute_result",
          "data": {
            "text/plain": [
              "<matplotlib.axes._subplots.AxesSubplot at 0x7fc6ab2f8d90>"
            ]
          },
          "metadata": {},
          "execution_count": 13
        },
        {
          "output_type": "display_data",
          "data": {
            "text/plain": [
              "<Figure size 432x288 with 1 Axes>"
            ],
            "image/png": "[encoded data removed]"
          },
          "metadata": {
            "needs_background": "light"
          }
        }
      ]
    },
    {
      "cell_type": "markdown",
      "source": [
        "Jika kita perhatikan kembali, pada beberapa fitur numerik di atas tidak terdapat outliers. Untuk itu kita tidak perlu melakukan penangan terhadap outlier. "
      ],
      "metadata": {
        "id": "Hu4pk_3WqiHp"
      }
    },
    {
      "cell_type": "markdown",
      "source": [
        "### Exploratory Data Analysis - Univariate Analysis"
      ],
      "metadata": {
        "id": "sh7Ohifaq-mS"
      }
    },
    {
      "cell_type": "markdown",
      "source": [
        "Selanjutnya, kita akan melakukan proses analisis data dengan teknik Univariate EDA. Pertama, Anda bagi fitur pada dataset menjadi dua bagian, yaitu numerical features dan categorical features."
      ],
      "metadata": {
        "id": "LIukwlgjrAbx"
      }
    },
    {
      "cell_type": "code",
      "source": [
        "numerical_features = ['Panjang', 'Besar', 'PH']\n",
        "categorical_features = ['Varietas', 'Warna', 'Rasa', 'Teknik', 'Musim', 'Penyakit', 'Grade Mutu']"
      ],
      "metadata": {
        "id": "OlskGdnWrDjS"
      },
      "execution_count": 14,
      "outputs": []
    },
    {
      "cell_type": "markdown",
      "source": [
        "**Categorical Features**\n",
        "1. Fitur Varietas"
      ],
      "metadata": {
        "id": "VhrEvRQ6rn1q"
      }
    },
    {
      "cell_type": "code",
      "source": [
        "feature = categorical_features[0]\n",
        "count = padi[feature].value_counts()\n",
        "percent = 100*padi[feature].value_counts(normalize=True)\n",
        "df = pd.DataFrame({'jumlah sampel':count, 'persentase':percent.round(1)})\n",
        "print(df)\n",
        "count.plot(kind='bar', title=feature)"
      ],
      "metadata": {
        "colab": {
          "base_uri": "https://localhost:8080/",
          "height": 475
        },
        "id": "FXUMPx7mrs8h",
        "outputId": "a1a48fde-8ea8-4e57-bb6d-d9283c051538"
      },
      "execution_count": 15,
      "outputs": [
        {
          "output_type": "stream",
          "name": "stdout",
          "text": [
            "             jumlah sampel  persentase\n",
            "panda wangi            826        16.7\n",
            "ciheran                826        16.7\n",
            "mi kongga              825        16.7\n",
            "IR 64                  825        16.7\n",
            "Beras Merah            825        16.7\n",
            "Beras Hitam            825        16.7\n"
          ]
        },
        {
          "output_type": "execute_result",
          "data": {
            "text/plain": [
              "<matplotlib.axes._subplots.AxesSubplot at 0x7fc6ab244d90>"
            ]
          },
          "metadata": {},
          "execution_count": 15
        },
        {
          "output_type": "display_data",
          "data": {
            "text/plain": [
              "<Figure size 432x288 with 1 Axes>"
            ],
            "image/png": "[encoded data removed]"
          },
          "metadata": {
            "needs_background": "light"
          }
        }
      ]
    },
    {
      "cell_type": "markdown",
      "source": [
        "Dari grafik di atas, dapat kita simpulkan bahwa semua varietas meniliki jumlah yang merata di setiap kategorinya."
      ],
      "metadata": {
        "id": "14P2UVAlLCOn"
      }
    },
    {
      "cell_type": "markdown",
      "source": [
        "2. Fitur Warna"
      ],
      "metadata": {
        "id": "xgcKsdIdtH2Z"
      }
    },
    {
      "cell_type": "code",
      "source": [
        "feature = categorical_features[1]\n",
        "count = padi[feature].value_counts()\n",
        "percent = 100*padi[feature].value_counts(normalize=True)\n",
        "df = pd.DataFrame({'jumlah sampel':count, 'persentase':percent.round(1)})\n",
        "print(df)\n",
        "count.plot(kind='bar', title=feature)"
      ],
      "metadata": {
        "colab": {
          "base_uri": "https://localhost:8080/",
          "height": 408
        },
        "id": "Iy5SZidPtGOU",
        "outputId": "23fee880-9038-4099-c19c-4bf02d6e6153"
      },
      "execution_count": 16,
      "outputs": [
        {
          "output_type": "stream",
          "name": "stdout",
          "text": [
            "        jumlah sampel  persentase\n",
            "putih            2889        58.3\n",
            "merah             825        16.7\n",
            "hitam             825        16.7\n",
            "coklat            413         8.3\n"
          ]
        },
        {
          "output_type": "execute_result",
          "data": {
            "text/plain": [
              "<matplotlib.axes._subplots.AxesSubplot at 0x7fc6ab1d8650>"
            ]
          },
          "metadata": {},
          "execution_count": 16
        },
        {
          "output_type": "display_data",
          "data": {
            "text/plain": [
              "<Figure size 432x288 with 1 Axes>"
            ],
            "image/png": "[encoded data removed]"
          },
          "metadata": {
            "needs_background": "light"
          }
        }
      ]
    },
    {
      "cell_type": "markdown",
      "source": [
        "Dari data persentase dapat kita simpulkan bahwa lebih dari 50% sampel merupakan padi organik dengan warna putih."
      ],
      "metadata": {
        "id": "84UfEhjzvVVI"
      }
    },
    {
      "cell_type": "markdown",
      "source": [
        "3. Fitur Rasa"
      ],
      "metadata": {
        "id": "MOSUXte9tPcz"
      }
    },
    {
      "cell_type": "code",
      "source": [
        "feature = categorical_features[2]\n",
        "count = padi[feature].value_counts()\n",
        "percent = 100*padi[feature].value_counts(normalize=True)\n",
        "df = pd.DataFrame({'jumlah sampel':count, 'persentase':percent.round(1)})\n",
        "print(df)\n",
        "count.plot(kind='bar', title=feature)"
      ],
      "metadata": {
        "colab": {
          "base_uri": "https://localhost:8080/",
          "height": 406
        },
        "id": "LKLdd8T8tUBx",
        "outputId": "5f3fe010-3042-44d1-9213-f79e556b118c"
      },
      "execution_count": 17,
      "outputs": [
        {
          "output_type": "stream",
          "name": "stdout",
          "text": [
            "              jumlah sampel  persentase\n",
            "sangat pulen           2476        50.0\n",
            "pulen                  2476        50.0\n"
          ]
        },
        {
          "output_type": "execute_result",
          "data": {
            "text/plain": [
              "<matplotlib.axes._subplots.AxesSubplot at 0x7fc6ab152bd0>"
            ]
          },
          "metadata": {},
          "execution_count": 17
        },
        {
          "output_type": "display_data",
          "data": {
            "text/plain": [
              "<Figure size 432x288 with 1 Axes>"
            ],
            "image/png": "[encoded data removed]"
          },
          "metadata": {
            "needs_background": "light"
          }
        }
      ]
    },
    {
      "cell_type": "markdown",
      "source": [
        "Dari grafik di atas, dapat kita simpulkan bahwa semua rasa meniliki jumlah yang merata di setiap kategorinya."
      ],
      "metadata": {
        "id": "5sSaSXkpLQI-"
      }
    },
    {
      "cell_type": "markdown",
      "source": [
        "4. Fitur Teknik"
      ],
      "metadata": {
        "id": "QbJu4RVntZUa"
      }
    },
    {
      "cell_type": "code",
      "source": [
        "feature = categorical_features[3]\n",
        "count = padi[feature].value_counts()\n",
        "percent = 100*padi[feature].value_counts(normalize=True)\n",
        "df = pd.DataFrame({'jumlah sampel':count, 'persentase':percent.round(1)})\n",
        "print(df)\n",
        "count.plot(kind='bar', title=feature)"
      ],
      "metadata": {
        "colab": {
          "base_uri": "https://localhost:8080/",
          "height": 404
        },
        "id": "DiQjM0fFtbJa",
        "outputId": "4eb07b46-feb2-49c3-eaff-3b9612c44723"
      },
      "execution_count": 18,
      "outputs": [
        {
          "output_type": "stream",
          "name": "stdout",
          "text": [
            "              jumlah sampel  persentase\n",
            "Jajar Legowo           2476        50.0\n",
            "SRI                    2476        50.0\n"
          ]
        },
        {
          "output_type": "execute_result",
          "data": {
            "text/plain": [
              "<matplotlib.axes._subplots.AxesSubplot at 0x7fc6ab1de750>"
            ]
          },
          "metadata": {},
          "execution_count": 18
        },
        {
          "output_type": "display_data",
          "data": {
            "text/plain": [
              "<Figure size 432x288 with 1 Axes>"
            ],
            "image/png": "[encoded data removed]"
          },
          "metadata": {
            "needs_background": "light"
          }
        }
      ]
    },
    {
      "cell_type": "markdown",
      "source": [
        "Dari grafik di atas, dapat kita simpulkan bahwa semua teknik meniliki jumlah yang merata di setiap kategorinya."
      ],
      "metadata": {
        "id": "A1qwNeEhLbO-"
      }
    },
    {
      "cell_type": "markdown",
      "source": [
        "5. Fitur Musim"
      ],
      "metadata": {
        "id": "doxd-MiXtmJL"
      }
    },
    {
      "cell_type": "code",
      "source": [
        "feature = categorical_features[4]\n",
        "count = padi[feature].value_counts()\n",
        "percent = 100*padi[feature].value_counts(normalize=True)\n",
        "df = pd.DataFrame({'jumlah sampel':count, 'persentase':percent.round(1)})\n",
        "print(df)\n",
        "count.plot(kind='bar', title=feature)"
      ],
      "metadata": {
        "colab": {
          "base_uri": "https://localhost:8080/",
          "height": 385
        },
        "id": "mi0b8uKVtd1C",
        "outputId": "7180f4f0-d838-46c3-8b5d-1159b9c6235e"
      },
      "execution_count": 19,
      "outputs": [
        {
          "output_type": "stream",
          "name": "stdout",
          "text": [
            "         jumlah sampel  persentase\n",
            "Hujan             2478        50.0\n",
            "Kemarau           2474        50.0\n"
          ]
        },
        {
          "output_type": "execute_result",
          "data": {
            "text/plain": [
              "<matplotlib.axes._subplots.AxesSubplot at 0x7fc6ab085190>"
            ]
          },
          "metadata": {},
          "execution_count": 19
        },
        {
          "output_type": "display_data",
          "data": {
            "text/plain": [
              "<Figure size 432x288 with 1 Axes>"
            ],
            "image/png": "[encoded data removed]"
          },
          "metadata": {
            "needs_background": "light"
          }
        }
      ]
    },
    {
      "cell_type": "markdown",
      "source": [
        "Dari grafik di atas, dapat kita simpulkan bahwa semua musim meniliki jumlah yang merata di setiap kategorinya."
      ],
      "metadata": {
        "id": "1tKWpxxvLeXM"
      }
    },
    {
      "cell_type": "markdown",
      "source": [
        "6. Penyakit"
      ],
      "metadata": {
        "id": "mKP-B3b9tpw5"
      }
    },
    {
      "cell_type": "code",
      "source": [
        "feature = categorical_features[5]\n",
        "count = padi[feature].value_counts()\n",
        "percent = 100*padi[feature].value_counts(normalize=True)\n",
        "df = pd.DataFrame({'jumlah sampel':count, 'persentase':percent.round(1)})\n",
        "print(df)\n",
        "count.plot(kind='bar', title=feature)"
      ],
      "metadata": {
        "colab": {
          "base_uri": "https://localhost:8080/",
          "height": 484
        },
        "id": "dUQ_CJG8tfR7",
        "outputId": "de2d28ca-ab31-4636-c448-f67e37011553"
      },
      "execution_count": 20,
      "outputs": [
        {
          "output_type": "stream",
          "name": "stdout",
          "text": [
            "                  jumlah sampel  persentase\n",
            "Burung                      991        20.0\n",
            "penggerek batang            991        20.0\n",
            "wereng coklat               990        20.0\n",
            "wereng hijau                990        20.0\n",
            "tikus                       990        20.0\n"
          ]
        },
        {
          "output_type": "execute_result",
          "data": {
            "text/plain": [
              "<matplotlib.axes._subplots.AxesSubplot at 0x7fc6ab01f910>"
            ]
          },
          "metadata": {},
          "execution_count": 20
        },
        {
          "output_type": "display_data",
          "data": {
            "text/plain": [
              "<Figure size 432x288 with 1 Axes>"
            ],
            "image/png": "[encoded data removed]"
          },
          "metadata": {
            "needs_background": "light"
          }
        }
      ]
    },
    {
      "cell_type": "markdown",
      "source": [
        "Dari grafik di atas, dapat kita simpulkan bahwa semua penyakit meniliki jumlah yang merata di setiap kategorinya."
      ],
      "metadata": {
        "id": "adVfFqcbLhvG"
      }
    },
    {
      "cell_type": "markdown",
      "source": [
        "7. Grade Mutu"
      ],
      "metadata": {
        "id": "KLIEBHQDtv_h"
      }
    },
    {
      "cell_type": "code",
      "source": [
        "feature = categorical_features[6]\n",
        "count = padi[feature].value_counts()\n",
        "percent = 100*padi[feature].value_counts(normalize=True)\n",
        "df = pd.DataFrame({'jumlah sampel':count, 'persentase':percent.round(1)})\n",
        "print(df)\n",
        "count.plot(kind='bar', title=feature)"
      ],
      "metadata": {
        "colab": {
          "base_uri": "https://localhost:8080/",
          "height": 417
        },
        "id": "qw3g0gWctgiC",
        "outputId": "af3ee00c-0124-40bc-c40e-53db79ea5bb3"
      },
      "execution_count": 21,
      "outputs": [
        {
          "output_type": "stream",
          "name": "stdout",
          "text": [
            "         jumlah sampel  persentase\n",
            "Grade C           2392        48.3\n",
            "Grade B           1609        32.5\n",
            "Grade D            869        17.5\n",
            "Grade A             82         1.7\n"
          ]
        },
        {
          "output_type": "execute_result",
          "data": {
            "text/plain": [
              "<matplotlib.axes._subplots.AxesSubplot at 0x7fc6aaf8f610>"
            ]
          },
          "metadata": {},
          "execution_count": 21
        },
        {
          "output_type": "display_data",
          "data": {
            "text/plain": [
              "<Figure size 432x288 with 1 Axes>"
            ],
            "image/png": "[encoded data removed]"
          },
          "metadata": {
            "needs_background": "light"
          }
        }
      ]
    },
    {
      "cell_type": "markdown",
      "source": [
        "Dari data persentase dapat kita simpulkan bahwa lebih dari 70% sampel merupakan padi organik tipe grade sedang, yaitu grade B dan C."
      ],
      "metadata": {
        "id": "rpJQrCNlvH2D"
      }
    },
    {
      "cell_type": "markdown",
      "source": [
        "**Numerical Features**"
      ],
      "metadata": {
        "id": "D-5CUYywLp-U"
      }
    },
    {
      "cell_type": "code",
      "source": [
        "padi.hist(bins=50, figsize=(20,15))\n",
        "plt.show()"
      ],
      "metadata": {
        "colab": {
          "base_uri": "https://localhost:8080/",
          "height": 879
        },
        "id": "aOjU01zmLm31",
        "outputId": "e5229802-f0d3-4bd8-ed47-fc713bf99601"
      },
      "execution_count": 24,
      "outputs": [
        {
          "output_type": "display_data",
          "data": {
            "text/plain": [
              "<Figure size 1440x1080 with 4 Axes>"
            ],
            "image/png": "[encoded data removed]"
          },
          "metadata": {
            "needs_background": "light"
          }
        }
      ]
    },
    {
      "cell_type": "markdown",
      "source": [
        "Dari histogram di atas, kita bisa memperoleh beberapa informasi, antara lain:\n",
        "* Panjang padi organik terbagi dalam 2 pusat, yaitu antara rentang 6.00-6.70 dan rentang 7.10-7.50.\n",
        "* Besar padi organik juga bervariasi dalam rentang 1 hingga 7.\n",
        "* Setengah harga berlian bernilai di bawah 2500.\n",
        "* Untuk PH padi organik tersebar merata pada 2.0, 3.0, 4.0, dan 5.0..\n"
      ],
      "metadata": {
        "id": "UjQu0pwEMd93"
      }
    },
    {
      "cell_type": "markdown",
      "source": [
        "## **Data preparation**"
      ],
      "metadata": {
        "id": "UFX13JqRQBKk"
      }
    },
    {
      "cell_type": "markdown",
      "source": [
        "### Encoding Data Kategori"
      ],
      "metadata": {
        "id": "nti-PLKoQFHu"
      }
    },
    {
      "cell_type": "markdown",
      "source": [
        "Untuk melakukan proses encoding fitur kategori, salah satu teknik yang umum dilakukan adalah teknik one-hot-encoding. Sebagai langkah awal, kita akan bagi data menjadi fitur (x) dan target (y) karena penangan encoding terhadap data kategorinya berbeda."
      ],
      "metadata": {
        "id": "e_Nbhgb5QFqd"
      }
    },
    {
      "cell_type": "code",
      "source": [
        "x = padi.iloc[:,:-1].values\n",
        "y = padi.iloc[:,-1].values"
      ],
      "metadata": {
        "id": "hj-KvR2yU2-N"
      },
      "execution_count": 25,
      "outputs": []
    },
    {
      "cell_type": "code",
      "source": [
        "# One hot encoding\n",
        "crt = ColumnTransformer(transformers=[(\"encoder\", OneHotEncoder(),[0,3,4,5,6,7])], remainder=\"passthrough\")\n",
        "x = np.array(crt.fit_transform(x))\n",
        "print(x)\n"
      ],
      "metadata": {
        "id": "luvZ8nGdp68h",
        "colab": {
          "base_uri": "https://localhost:8080/"
        },
        "outputId": "7aa211a7-c307-4d53-8daf-1c83f24b2bee"
      },
      "execution_count": 26,
      "outputs": [
        {
          "output_type": "stream",
          "name": "stdout",
          "text": [
            "[[0.0 0.0 0.0 ... 6.3 1.2 2.0]\n",
            " [0.0 0.0 0.0 ... 7.2 2.3 2.0]\n",
            " [0.0 0.0 0.0 ... 6.1 3.3 2.0]\n",
            " ...\n",
            " [1.0 0.0 0.0 ... 7.4 6.2 2.0]\n",
            " [0.0 0.0 0.0 ... 6.2 1.2 3.0]\n",
            " [0.0 0.0 0.0 ... 6.4 2.3 3.0]]\n"
          ]
        }
      ]
    },
    {
      "cell_type": "code",
      "source": [
        "le = LabelEncoder()\n",
        "y = le.fit_transform(y)\n",
        "print(y)"
      ],
      "metadata": {
        "colab": {
          "base_uri": "https://localhost:8080/"
        },
        "id": "J96F0_ASRKnN",
        "outputId": "561a1454-78d1-4210-f3ef-1ccb43458994"
      },
      "execution_count": 27,
      "outputs": [
        {
          "output_type": "stream",
          "name": "stdout",
          "text": [
            "[3 2 3 ... 2 2 3]\n"
          ]
        }
      ]
    },
    {
      "cell_type": "markdown",
      "source": [
        "### Pembagian dataset dengan fungsi train_test_split dari library sklearn"
      ],
      "metadata": {
        "id": "D3hiYScnag1c"
      }
    },
    {
      "cell_type": "markdown",
      "source": [
        "Ketahuilah bahwa setiap transformasi yang kita lakukan pada data juga merupakan bagian dari model. Karena data uji (test set) berperan sebagai data baru, kita perlu melakukan semua proses transformasi dalam data latih. Inilah alasan mengapa langkah awal adalah membagi dataset sebelum melakukan transformasi apa pun. Tujuannya adalah agar kita tidak mengotori data uji dengan informasi yang kita dapat dari data latih. \n",
        "\n",
        "Proses scaling pada seluruh dataset membuat model memiliki informasi mengenai distribusi pada data uji. Informasi tentang data uji (yang seharusnya tidak dilihat oleh model) turut diikutsertakan dalam proses transformasi data latih. Oleh karena itu, kita akan melakukan proses scaling secara terpisah antara data latih dan data uji. "
      ],
      "metadata": {
        "id": "o0hJ9DAlahc9"
      }
    },
    {
      "cell_type": "code",
      "source": [
        "x_train,x_test,y_train,y_test= train_test_split(x, y , test_size=0.25, random_state=123)\n",
        "print(f'Total # of sample in whole dataset: {len(x)}')\n",
        "print(f'Total # of sample in train dataset: {len(x_train)}')\n",
        "print(f'Total # of sample in test dataset: {len(x_test)}')"
      ],
      "metadata": {
        "colab": {
          "base_uri": "https://localhost:8080/"
        },
        "id": "Gor0buoLamrs",
        "outputId": "f3e2e360-ce61-424c-aee4-f6f0ae209b93"
      },
      "execution_count": 28,
      "outputs": [
        {
          "output_type": "stream",
          "name": "stdout",
          "text": [
            "Total # of sample in whole dataset: 4952\n",
            "Total # of sample in train dataset: 3714\n",
            "Total # of sample in test dataset: 1238\n"
          ]
        }
      ]
    },
    {
      "cell_type": "markdown",
      "source": [
        "### Standarisasi"
      ],
      "metadata": {
        "id": "f2pIf9mHalcs"
      }
    },
    {
      "cell_type": "markdown",
      "source": [
        "Algoritma machine learning memiliki performa lebih baik dan konvergen lebih cepat ketika dimodelkan pada data dengan skala relatif sama atau mendekati distribusi normal. Standardisasi adalah teknik transformasi yang paling umum digunakan dalam tahap persiapan pemodelan. \n",
        "\n",
        "StandardScaler melakukan proses standarisasi fitur dengan mengurangkan mean (nilai rata-rata) kemudian membaginya dengan standar deviasi untuk menggeser distribusi.  StandardScaler menghasilkan distribusi dengan standar deviasi sama dengan 1 dan mean sama dengan 0. Sekitar 68% dari nilai akan berada di antara -1 dan 1."
      ],
      "metadata": {
        "id": "KzesQ-4GbPHM"
      }
    },
    {
      "cell_type": "code",
      "source": [
        "sc = StandardScaler()\n",
        "x_train = sc.fit_transform(x_train)\n",
        "print(x_train)"
      ],
      "metadata": {
        "colab": {
          "base_uri": "https://localhost:8080/"
        },
        "id": "bhVKLr4Hbiz1",
        "outputId": "41b18d86-af11-41f0-db46-43ed32c257f0"
      },
      "execution_count": 29,
      "outputs": [
        {
          "output_type": "stream",
          "name": "stdout",
          "text": [
            "[[-0.45024461 -0.45024461 -0.44287161 ...  1.38328267 -1.30938127\n",
            "   1.33294366]\n",
            " [-0.45024461 -0.45024461 -0.44287161 ... -0.98523483 -0.27722915\n",
            "   1.33294366]\n",
            " [-0.45024461 -0.45024461 -0.44287161 ... -0.59048192 -0.21988737\n",
            "  -1.35513928]\n",
            " ...\n",
            " [-0.45024461 -0.45024461 -0.44287161 ... -1.18261129 -0.21988737\n",
            "  -1.35513928]\n",
            " [-0.45024461  2.22101494 -0.44287161 ... -1.37998775  0.86960653\n",
            "   1.33294366]\n",
            " [-0.45024461 -0.45024461 -0.44287161 ... -0.78785838 -1.48140662\n",
            "  -0.45911163]]\n"
          ]
        }
      ]
    },
    {
      "cell_type": "markdown",
      "source": [
        "## **Modeling**"
      ],
      "metadata": {
        "id": "I8G_xU58eG_1"
      }
    },
    {
      "cell_type": "markdown",
      "source": [
        "Pada tahap ini, kita akan mengembangkan model machine learning dengan tiga algoritma. Kemudian, kita akan mengevaluasi performa masing-masing algoritma dan menentukan algoritma mana yang memberikan hasil prediksi terbaik. \n",
        "\n",
        "Siapkan data frame untuk analisis ketiga model tersebut lebih dahulu."
      ],
      "metadata": {
        "id": "XORMBDhTeGY0"
      }
    },
    {
      "cell_type": "code",
      "source": [
        "# Siapkan dataframe untuk analisis model\n",
        "models = pd.DataFrame(index=['train_acc', 'test_acc'], \n",
        "                      columns=['KNN', 'RandomForest', 'Boosting'])"
      ],
      "metadata": {
        "id": "pUhG73THeEaF"
      },
      "execution_count": 30,
      "outputs": []
    },
    {
      "cell_type": "markdown",
      "source": [
        "### K-Nearest Neighbor"
      ],
      "metadata": {
        "id": "T4AYY_OIeWwk"
      }
    },
    {
      "cell_type": "markdown",
      "source": [
        "KNN adalah algoritma yang relatif sederhana dibandingkan dengan algoritma lain. Algoritma KNN menggunakan ‘kesamaan fitur’ untuk memprediksi nilai dari setiap data yang baru. "
      ],
      "metadata": {
        "id": "jCIp6jvPeZil"
      }
    },
    {
      "cell_type": "code",
      "source": [
        "from sklearn.neighbors import KNeighborsClassifier\n",
        "from sklearn.metrics import accuracy_score\n",
        " \n",
        "knn = KNeighborsClassifier(n_neighbors=10)\n",
        "knn.fit(x_train, y_train)\n",
        " \n",
        "models.loc['train_acc','knn'] = accuracy_score(y_pred = knn.predict(x_train), y_true=y_train)"
      ],
      "metadata": {
        "id": "tr5JD7rCebZk"
      },
      "execution_count": 31,
      "outputs": []
    },
    {
      "cell_type": "markdown",
      "source": [
        "Meskipun algoritma KNN mudah dipahami dan digunakan, ia memiliki kekurangan jika dihadapkan pada jumlah fitur atau dimensi yang besar."
      ],
      "metadata": {
        "id": "bkcsEw1NfSt1"
      }
    },
    {
      "cell_type": "markdown",
      "source": [
        "### Random Forest"
      ],
      "metadata": {
        "id": "TgcN5OovfVQ9"
      }
    },
    {
      "cell_type": "markdown",
      "source": [
        "Random forest merupakan salah satu model machine learning yang termasuk ke dalam kategori ensemble (group) learning. Ide dibalik model ensemble adalah sekelompok model yang bekerja bersama menyelesaikan masalah. Sehingga, tingkat keberhasilan akan lebih tinggi dibanding model yang bekerja sendirian.\n",
        "\n",
        "Ada dua teknik pendekatan dalam membuat model ensemble, yaitu bagging dan boosting. Jangan bingung dulu dengan istilah ini ya. Kita akan bahas satu per satu. \n",
        "\n",
        "Bagging atau bootstrap aggregating adalah teknik yang melatih model dengan sampel random."
      ],
      "metadata": {
        "id": "sEOBK4gpfXbc"
      }
    },
    {
      "cell_type": "code",
      "source": [
        "# Impor library yang dibutuhkan\n",
        "from sklearn.ensemble import RandomForestClassifier\n",
        " \n",
        "# buat model prediksi\n",
        "RF = RandomForestClassifier(n_estimators=50, max_depth=16, random_state=55, n_jobs=-1)\n",
        "RF.fit(x_train, y_train)\n",
        " \n",
        "models.loc['train_acc','RandomForest'] = accuracy_score(y_pred=RF.predict(x_train), y_true=y_train)  "
      ],
      "metadata": {
        "id": "8BAlt_j8fYqU"
      },
      "execution_count": 32,
      "outputs": []
    },
    {
      "cell_type": "markdown",
      "source": [
        "### Boosting Algorithm"
      ],
      "metadata": {
        "id": "tdqe5G5yfmDl"
      }
    },
    {
      "cell_type": "markdown",
      "source": [
        "Sebagai model ensemble, keduanya terdiri dari beberapa model yang bekerja secara bersama-sama. Pada teknik bagging, setiap model dilatih secara paralel. Sedangkan, pada teknik boosting, model dilatih secara berurutan atau dalam proses yang iteratif. \n",
        "\n",
        "Seperti namanya, boosting, algoritma ini bertujuan untuk meningkatkan performa atau akurasi prediksi. Caranya adalah dengan menggabungkan beberapa model sederhana dan dianggap lemah (weak learners) sehingga membentuk suatu model yang kuat (strong ensemble learner)."
      ],
      "metadata": {
        "id": "uzqv2iZ9fnPF"
      }
    },
    {
      "cell_type": "code",
      "source": [
        "from sklearn.ensemble import AdaBoostClassifier\n",
        " \n",
        "boosting = AdaBoostClassifier(learning_rate=0.05, random_state=55)                             \n",
        "boosting.fit(x_train, y_train)\n",
        "models.loc['train_mse','Boosting'] = accuracy_score(y_pred=boosting.predict(x_train), y_true=y_train)"
      ],
      "metadata": {
        "id": "czIF6Xf1fpR8"
      },
      "execution_count": 33,
      "outputs": []
    },
    {
      "cell_type": "markdown",
      "source": [
        "## **Evaluation**"
      ],
      "metadata": {
        "id": "qo44BkRdf1jE"
      }
    },
    {
      "cell_type": "markdown",
      "source": [
        "Metrik yang akan kita gunakan pada prediksi ini adalah accuracy. Namun, sebelum menghitung nilai accuracy dalam model, kita perlu melakukan proses scaling fitur numerik pada data uji."
      ],
      "metadata": {
        "id": "ijLItM4zf2tb"
      }
    },
    {
      "cell_type": "code",
      "source": [
        "x_test  = sc.fit_transform(x_test)\n",
        "print(x_test)"
      ],
      "metadata": {
        "colab": {
          "base_uri": "https://localhost:8080/"
        },
        "id": "K0_y8PykgWXd",
        "outputId": "4827a171-5e36-4194-bc5c-0d9c106255cf"
      },
      "execution_count": 34,
      "outputs": [
        {
          "output_type": "stream",
          "name": "stdout",
          "text": [
            "[[-0.43764177  2.28497386 -0.4597285  ... -0.98262314  0.89666916\n",
            "  -1.2939003 ]\n",
            " [ 2.28497386 -0.43764177 -0.4597285  ...  1.39836681  1.47694956\n",
            "   1.37436495]\n",
            " [-0.43764177 -0.43764177 -0.4597285  ...  0.80311932 -0.08980753\n",
            "  -0.40447855]\n",
            " ...\n",
            " [-0.43764177 -0.43764177  2.17519688 ... -0.98262314  0.31638875\n",
            "  -1.2939003 ]\n",
            " [-0.43764177  2.28497386 -0.4597285  ...  0.60470349  0.9546972\n",
            "   1.37436495]\n",
            " [-0.43764177  2.28497386 -0.4597285  ... -0.78420731  0.83864112\n",
            "  -1.2939003 ]]\n"
          ]
        }
      ]
    },
    {
      "cell_type": "code",
      "source": [
        "# Buat variabel mse yang isinya adalah dataframe nilai mse data train dan test pada masing-masing algoritma\n",
        "acc = pd.DataFrame(columns=['train', 'test'], index=['KNN','RF','Boosting'])\n",
        " \n",
        "# Buat dictionary untuk setiap algoritma yang digunakan\n",
        "model_dict = {'KNN': knn, 'RF': RF, 'Boosting': boosting}\n",
        " \n",
        "# Hitung Mean Squared Error masing-masing algoritma pada data train dan test\n",
        "for name, model in model_dict.items():\n",
        "    acc.loc[name, 'train'] = accuracy_score(y_true=y_train, y_pred=model.predict(x_train)) \n",
        "    acc.loc[name, 'test'] = accuracy_score(y_true=y_test, y_pred=model.predict(x_test))\n",
        " \n",
        "# Panggil mse\n",
        "acc"
      ],
      "metadata": {
        "colab": {
          "base_uri": "https://localhost:8080/",
          "height": 144
        },
        "id": "DNwqmqJpgmA1",
        "outputId": "452e3e05-58ff-47e0-8d25-bf59474ff1bf"
      },
      "execution_count": 35,
      "outputs": [
        {
          "output_type": "execute_result",
          "data": {
            "text/plain": [
              "             train      test\n",
              "KNN       0.999731       1.0\n",
              "RF             1.0       1.0\n",
              "Boosting  0.347065  0.324717"
            ],
            "text/html": [
              "\n",
              "  <div id=\"df-1c9d8599-89e5-40f2-9a8b-5d1fef5ef4d8\">\n",
              "    <div class=\"colab-df-container\">\n",
              "      <div>\n",
              "<style scoped>\n",
              "    .dataframe tbody tr th:only-of-type {\n",
              "        vertical-align: middle;\n",
              "    }\n",
              "\n",
              "    .dataframe tbody tr th {\n",
              "        vertical-align: top;\n",
              "    }\n",
              "\n",
              "    .dataframe thead th {\n",
              "        text-align: right;\n",
              "    }\n",
              "</style>\n",
              "<table border=\"1\" class=\"dataframe\">\n",
              "  <thead>\n",
              "    <tr style=\"text-align: right;\">\n",
              "      <th></th>\n",
              "      <th>train</th>\n",
              "      <th>test</th>\n",
              "    </tr>\n",
              "  </thead>\n",
              "  <tbody>\n",
              "    <tr>\n",
              "      <th>KNN</th>\n",
              "      <td>0.999731</td>\n",
              "      <td>1.0</td>\n",
              "    </tr>\n",
              "    <tr>\n",
              "      <th>RF</th>\n",
              "      <td>1.0</td>\n",
              "      <td>1.0</td>\n",
              "    </tr>\n",
              "    <tr>\n",
              "      <th>Boosting</th>\n",
              "      <td>0.347065</td>\n",
              "      <td>0.324717</td>\n",
              "    </tr>\n",
              "  </tbody>\n",
              "</table>\n",
              "</div>\n",
              "      <button class=\"colab-df-convert\" onclick=\"convertToInteractive('df-1c9d8599-89e5-40f2-9a8b-5d1fef5ef4d8')\"\n",
              "              title=\"Convert this dataframe to an interactive table.\"\n",
              "              style=\"display:none;\">\n",
              "        \n",
              "  <svg xmlns=\"http://www.w3.org/2000/svg\" height=\"24px\"viewBox=\"0 0 24 24\"\n",
              "       width=\"24px\">\n",
              "    <path d=\"M0 0h24v24H0V0z\" fill=\"none\"/>\n",
              "    <path d=\"M18.56 5.44l.94 2.06.94-2.06 2.06-.94-2.06-.94-.94-2.06-.94 2.06-2.06.94zm-11 1L8.5 8.5l.94-2.06 2.06-.94-2.06-.94L8.5 2.5l-.94 2.06-2.06.94zm10 10l.94 2.06.94-2.06 2.06-.94-2.06-.94-.94-2.06-.94 2.06-2.06.94z\"/><path d=\"M17.41 7.96l-1.37-1.37c-.4-.4-.92-.59-1.43-.59-.52 0-1.04.2-1.43.59L10.3 9.45l-7.72 7.72c-.78.78-.78 2.05 0 2.83L4 21.41c.39.39.9.59 1.41.59.51 0 1.02-.2 1.41-.59l7.78-7.78 2.81-2.81c.8-.78.8-2.07 0-2.86zM5.41 20L4 18.59l7.72-7.72 1.47 1.35L5.41 20z\"/>\n",
              "  </svg>\n",
              "      </button>\n",
              "      \n",
              "  <style>\n",
              "    .colab-df-container {\n",
              "      display:flex;\n",
              "      flex-wrap:wrap;\n",
              "      gap: 12px;\n",
              "    }\n",
              "\n",
              "    .colab-df-convert {\n",
              "      background-color: #E8F0FE;\n",
              "      border: none;\n",
              "      border-radius: 50%;\n",
              "      cursor: pointer;\n",
              "      display: none;\n",
              "      fill: #1967D2;\n",
              "      height: 32px;\n",
              "      padding: 0 0 0 0;\n",
              "      width: 32px;\n",
              "    }\n",
              "\n",
              "    .colab-df-convert:hover {\n",
              "      background-color: #E2EBFA;\n",
              "      box-shadow: 0px 1px 2px rgba(60, 64, 67, 0.3), 0px 1px 3px 1px rgba(60, 64, 67, 0.15);\n",
              "      fill: #174EA6;\n",
              "    }\n",
              "\n",
              "    [theme=dark] .colab-df-convert {\n",
              "      background-color: #3B4455;\n",
              "      fill: #D2E3FC;\n",
              "    }\n",
              "\n",
              "    [theme=dark] .colab-df-convert:hover {\n",
              "      background-color: #434B5C;\n",
              "      box-shadow: 0px 1px 3px 1px rgba(0, 0, 0, 0.15);\n",
              "      filter: drop-shadow(0px 1px 2px rgba(0, 0, 0, 0.3));\n",
              "      fill: #FFFFFF;\n",
              "    }\n",
              "  </style>\n",
              "\n",
              "      <script>\n",
              "        const buttonEl =\n",
              "          document.querySelector('#df-1c9d8599-89e5-40f2-9a8b-5d1fef5ef4d8 button.colab-df-convert');\n",
              "        buttonEl.style.display =\n",
              "          google.colab.kernel.accessAllowed ? 'block' : 'none';\n",
              "\n",
              "        async function convertToInteractive(key) {\n",
              "          const element = document.querySelector('#df-1c9d8599-89e5-40f2-9a8b-5d1fef5ef4d8');\n",
              "          const dataTable =\n",
              "            await google.colab.kernel.invokeFunction('convertToInteractive',\n",
              "                                                     [key], {});\n",
              "          if (!dataTable) return;\n",
              "\n",
              "          const docLinkHtml = 'Like what you see? Visit the ' +\n",
              "            '<a target=\"_blank\" href=https://colab.research.google.com/notebooks/data_table.ipynb>data table notebook</a>'\n",
              "            + ' to learn more about interactive tables.';\n",
              "          element.innerHTML = '';\n",
              "          dataTable['output_type'] = 'display_data';\n",
              "          await google.colab.output.renderOutput(dataTable, element);\n",
              "          const docLink = document.createElement('div');\n",
              "          docLink.innerHTML = docLinkHtml;\n",
              "          element.appendChild(docLink);\n",
              "        }\n",
              "      </script>\n",
              "    </div>\n",
              "  </div>\n",
              "  "
            ]
          },
          "metadata": {},
          "execution_count": 35
        }
      ]
    },
    {
      "cell_type": "code",
      "source": [
        "fig, ax = plt.subplots()\n",
        "acc.sort_values(by='test', ascending=False).plot(kind='barh', ax=ax, zorder=3)\n",
        "ax.grid(zorder=0)"
      ],
      "metadata": {
        "colab": {
          "base_uri": "https://localhost:8080/",
          "height": 265
        },
        "id": "zjlIMHmjg6m1",
        "outputId": "0bb94ed4-f1e7-4f03-bbb2-dedcf069a16c"
      },
      "execution_count": 36,
      "outputs": [
        {
          "output_type": "display_data",
          "data": {
            "text/plain": [
              "<Figure size 432x288 with 1 Axes>"
            ],
            "image/png": "[encoded data removed]"
          },
          "metadata": {
            "needs_background": "light"
          }
        }
      ]
    },
    {
      "cell_type": "markdown",
      "source": [
        "Dari output di atas, terlihat bahwa, model **Random Forest (RF)** memberikan nilai accuracy yang paling tinggi. Sedangkan model dengan algoritma Boosting memiliki accuracy yang paling kecil (berdasarkan grafik, angkanya di dibawah 0.4 atau 40%). Model inilah yang akan kita pilih sebagai model terbaik untuk melakukan prediksi mutu padi organik."
      ],
      "metadata": {
        "id": "nCGzCtfEhD38"
      }
    }
  ]
}